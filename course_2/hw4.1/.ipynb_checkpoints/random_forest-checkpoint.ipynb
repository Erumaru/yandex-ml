{
 "cells": [
  {
   "cell_type": "code",
   "execution_count": 15,
   "metadata": {},
   "outputs": [
    {
     "name": "stdout",
     "output_type": "stream",
     "text": [
      "(1797, 64)\n",
      "(1797,)\n"
     ]
    }
   ],
   "source": [
    "from sklearn.datasets import load_digits\n",
    "from sklearn.model_selection import cross_val_score\n",
    "\n",
    "X, y = load_digits(return_X_y=True, as_frame=True)\n",
    "print(X.shape)\n",
    "print(y.shape)"
   ]
  },
  {
   "cell_type": "code",
   "execution_count": 22,
   "metadata": {},
   "outputs": [],
   "source": [
    "def write(answers, f):\n",
    "    with open(f'{f}.txt', 'w') as fl:\n",
    "        for ans in answers:\n",
    "            fl.write(f'{ans}')"
   ]
  },
  {
   "cell_type": "code",
   "execution_count": 23,
   "metadata": {},
   "outputs": [],
   "source": [
    "from sklearn.tree import DecisionTreeClassifier\n",
    "\n",
    "model = DecisionTreeClassifier()\n",
    "\n",
    "ans1 = cross_val_score(model, X, y, cv=10).mean()\n",
    "\n",
    "write([ans1], 1)"
   ]
  },
  {
   "cell_type": "code",
   "execution_count": 24,
   "metadata": {},
   "outputs": [
    {
     "name": "stdout",
     "output_type": "stream",
     "text": [
      "0.9198386095592799\n"
     ]
    }
   ],
   "source": [
    "from sklearn.ensemble import BaggingClassifier\n",
    "\n",
    "model = BaggingClassifier(n_estimators=100)\n",
    "\n",
    "ans2 = cross_val_score(model, X, y, cv=10).mean()\n",
    "\n",
    "print(ans2)"
   ]
  },
  {
   "cell_type": "code",
   "execution_count": 25,
   "metadata": {},
   "outputs": [],
   "source": [
    "write([ans2], 2)"
   ]
  },
  {
   "cell_type": "code",
   "execution_count": 29,
   "metadata": {},
   "outputs": [
    {
     "name": "stdout",
     "output_type": "stream",
     "text": [
      "0.9337833643699565\n",
      "CPU times: user 5.14 s, sys: 145 ms, total: 5.28 s\n",
      "Wall time: 5.31 s\n"
     ]
    }
   ],
   "source": [
    "%%time\n",
    "import math \n",
    "\n",
    "l = X.shape[1]\n",
    "d = math.sqrt(l) / l\n",
    "model = BaggingClassifier(n_estimators=100, max_features=d)\n",
    "\n",
    "ans3 = cross_val_score(model, X, y, cv=10).mean()\n",
    "\n",
    "print(ans3)"
   ]
  },
  {
   "cell_type": "code",
   "execution_count": 30,
   "metadata": {},
   "outputs": [],
   "source": [
    "write([ans3], 3)"
   ]
  },
  {
   "cell_type": "code",
   "execution_count": 31,
   "metadata": {},
   "outputs": [
    {
     "name": "stdout",
     "output_type": "stream",
     "text": [
      "0.9526908752327745\n",
      "CPU times: user 5.46 s, sys: 96.3 ms, total: 5.56 s\n",
      "Wall time: 6.04 s\n"
     ]
    }
   ],
   "source": [
    "%%time\n",
    "submodel = DecisionTreeClassifier(max_features=d)\n",
    "model = BaggingClassifier(submodel, n_estimators=100)\n",
    "\n",
    "ans4 = cross_val_score(model, X, y, cv=10).mean()\n",
    "\n",
    "print(ans4)"
   ]
  },
  {
   "cell_type": "code",
   "execution_count": 32,
   "metadata": {},
   "outputs": [],
   "source": [
    "write([ans4], 4)"
   ]
  },
  {
   "cell_type": "code",
   "execution_count": 34,
   "metadata": {},
   "outputs": [],
   "source": [
    "%%time\n",
    "from sklearn.ensemble import RandomForestClassifier\n",
    "\n",
    "ns = [10, 50, 100, 200, 500]\n",
    "\n",
    "for n in ns:\n",
    "    tree_model = RandomForestClassifier(max_features=d, n_estimators=n)\n",
    "    tree_score = cross_val_score(tree_model, X, y, cv=10).mean()\n",
    "    \n",
    "    submodel = DecisionTreeClassifier(max_features=d)\n",
    "    model = BaggingClassifier(submodel, n_estimators=n)\n",
    "    score = cross_val_score(model, X, y, cv=10)\n",
    "    \n",
    "    \n",
    "    \n",
    "    "
   ]
  },
  {
   "cell_type": "code",
   "execution_count": null,
   "metadata": {},
   "outputs": [],
   "source": []
  }
 ],
 "metadata": {
  "kernelspec": {
   "display_name": "Python 3",
   "language": "python",
   "name": "python3"
  },
  "language_info": {
   "codemirror_mode": {
    "name": "ipython",
    "version": 3
   },
   "file_extension": ".py",
   "mimetype": "text/x-python",
   "name": "python",
   "nbconvert_exporter": "python",
   "pygments_lexer": "ipython3",
   "version": "3.7.3"
  }
 },
 "nbformat": 4,
 "nbformat_minor": 4
}
