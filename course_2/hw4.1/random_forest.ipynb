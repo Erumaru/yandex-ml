{
 "cells": [
  {
   "cell_type": "code",
   "execution_count": 15,
   "metadata": {},
   "outputs": [
    {
     "name": "stdout",
     "output_type": "stream",
     "text": [
      "(1797, 64)\n",
      "(1797,)\n"
     ]
    }
   ],
   "source": [
    "from sklearn.datasets import load_digits\n",
    "from sklearn.model_selection import cross_val_score\n",
    "\n",
    "X, y = load_digits(return_X_y=True, as_frame=True)\n",
    "print(X.shape)\n",
    "print(y.shape)"
   ]
  },
  {
   "cell_type": "code",
   "execution_count": 57,
   "metadata": {},
   "outputs": [],
   "source": [
    "def write(answers, f):\n",
    "    with open(f'{f}.txt', 'w') as fl:\n",
    "        answers = list(map(lambda x: f'{x}', answers))\n",
    "        fl.write(' '.join(answers))"
   ]
  },
  {
   "cell_type": "code",
   "execution_count": 23,
   "metadata": {},
   "outputs": [],
   "source": [
    "from sklearn.tree import DecisionTreeClassifier\n",
    "\n",
    "model = DecisionTreeClassifier()\n",
    "\n",
    "ans1 = cross_val_score(model, X, y, cv=10).mean()\n",
    "\n",
    "write([ans1], 1)"
   ]
  },
  {
   "cell_type": "code",
   "execution_count": 24,
   "metadata": {},
   "outputs": [
    {
     "name": "stdout",
     "output_type": "stream",
     "text": [
      "0.9198386095592799\n"
     ]
    }
   ],
   "source": [
    "from sklearn.ensemble import BaggingClassifier\n",
    "\n",
    "model = BaggingClassifier(n_estimators=100)\n",
    "\n",
    "ans2 = cross_val_score(model, X, y, cv=10).mean()\n",
    "\n",
    "print(ans2)"
   ]
  },
  {
   "cell_type": "code",
   "execution_count": 25,
   "metadata": {},
   "outputs": [],
   "source": [
    "write([ans2], 2)"
   ]
  },
  {
   "cell_type": "code",
   "execution_count": 29,
   "metadata": {},
   "outputs": [
    {
     "name": "stdout",
     "output_type": "stream",
     "text": [
      "0.9337833643699565\n",
      "CPU times: user 5.14 s, sys: 145 ms, total: 5.28 s\n",
      "Wall time: 5.31 s\n"
     ]
    }
   ],
   "source": [
    "%%time\n",
    "import math \n",
    "\n",
    "l = X.shape[1]\n",
    "d = math.sqrt(l) / l\n",
    "model = BaggingClassifier(n_estimators=100, max_features=d)\n",
    "\n",
    "ans3 = cross_val_score(model, X, y, cv=10).mean()\n",
    "\n",
    "print(ans3)"
   ]
  },
  {
   "cell_type": "code",
   "execution_count": 30,
   "metadata": {},
   "outputs": [],
   "source": [
    "write([ans3], 3)"
   ]
  },
  {
   "cell_type": "code",
   "execution_count": 31,
   "metadata": {},
   "outputs": [
    {
     "name": "stdout",
     "output_type": "stream",
     "text": [
      "0.9526908752327745\n",
      "CPU times: user 5.46 s, sys: 96.3 ms, total: 5.56 s\n",
      "Wall time: 6.04 s\n"
     ]
    }
   ],
   "source": [
    "%%time\n",
    "submodel = DecisionTreeClassifier(max_features=d)\n",
    "model = BaggingClassifier(submodel, n_estimators=100)\n",
    "\n",
    "ans4 = cross_val_score(model, X, y, cv=10).mean()\n",
    "\n",
    "print(ans4)"
   ]
  },
  {
   "cell_type": "code",
   "execution_count": 32,
   "metadata": {},
   "outputs": [],
   "source": [
    "write([ans4], 4)"
   ]
  },
  {
   "cell_type": "code",
   "execution_count": 43,
   "metadata": {},
   "outputs": [
    {
     "name": "stdout",
     "output_type": "stream",
     "text": [
      "CPU times: user 19.7 s, sys: 324 ms, total: 20.1 s\n",
      "Wall time: 21.9 s\n"
     ]
    }
   ],
   "source": [
    "%%time\n",
    "from sklearn.ensemble import RandomForestClassifier\n",
    "\n",
    "ns = [5, 10, 20, 50, 100]\n",
    "\n",
    "tree_scores = []\n",
    "scores = []\n",
    "\n",
    "for n in ns:\n",
    "    tree_model = RandomForestClassifier(max_features=d, n_estimators=n)\n",
    "    tree_score = cross_val_score(tree_model, X, y, cv=10).mean()\n",
    "    tree_scores.append(tree_score)\n",
    "    \n",
    "    submodel = DecisionTreeClassifier(max_features=d)\n",
    "    model = BaggingClassifier(submodel, n_estimators=n)\n",
    "    score = cross_val_score(model, X, y, cv=10).mean()\n",
    "    scores.append(score)"
   ]
  },
  {
   "cell_type": "code",
   "execution_count": 44,
   "metadata": {},
   "outputs": [
    {
     "data": {
      "image/png": "[encoded data removed]",
      "text/plain": [
       "<Figure size 432x288 with 1 Axes>"
      ]
     },
     "metadata": {
      "needs_background": "light"
     },
     "output_type": "display_data"
    }
   ],
   "source": [
    "import matplotlib.pyplot as plt\n",
    "\n",
    "plt.plot(ns, tree_scores, label='Random forest')\n",
    "plt.plot(ns, scores, label='Bagging')\n",
    "plt.legend()\n",
    "plt.show()"
   ]
  },
  {
   "cell_type": "markdown",
   "metadata": {},
   "source": [
    "#### 4) При большом количестве признаков (для данного датасета - 40, 50) качество классификации становится хуже, чем при малом количестве признаков (5, 10). Это связано с тем, что чем меньше признаков выбирается в каждом узле, тем более различными получаются деревья (ведь деревья сильно неустойчивы к изменениям в обучающей выборке), и тем лучше работает их композиция."
   ]
  },
  {
   "cell_type": "code",
   "execution_count": 48,
   "metadata": {},
   "outputs": [
    {
     "name": "stdout",
     "output_type": "stream",
     "text": [
      "CPU times: user 1min 4s, sys: 435 ms, total: 1min 5s\n",
      "Wall time: 1min 5s\n"
     ]
    }
   ],
   "source": [
    "%%time\n",
    "ds = [5, 10, 40, 50]\n",
    "n = 100\n",
    "tree_scores = []\n",
    "scores = []\n",
    "\n",
    "for d in ds:\n",
    "    tree_model = RandomForestClassifier(max_features=d, n_estimators=n)\n",
    "    tree_score = cross_val_score(tree_model, X, y, cv=10).mean()\n",
    "    tree_scores.append(tree_score)\n",
    "    \n",
    "    submodel = DecisionTreeClassifier(max_features=d)\n",
    "    model = BaggingClassifier(submodel, n_estimators=n)\n",
    "    score = cross_val_score(model, X, y, cv=10).mean()\n",
    "    scores.append(score)"
   ]
  },
  {
   "cell_type": "code",
   "execution_count": 49,
   "metadata": {},
   "outputs": [
    {
     "data": {
      "image/png": "[encoded data removed]",
      "text/plain": [
       "<Figure size 432x288 with 1 Axes>"
      ]
     },
     "metadata": {
      "needs_background": "light"
     },
     "output_type": "display_data"
    }
   ],
   "source": [
    "import matplotlib.pyplot as plt\n",
    "\n",
    "plt.plot(ds, tree_scores, label='Random forest')\n",
    "plt.plot(ds, scores, label='Bagging')\n",
    "plt.legend()\n",
    "plt.show()"
   ]
  },
  {
   "cell_type": "code",
   "execution_count": 51,
   "metadata": {},
   "outputs": [
    {
     "name": "stdout",
     "output_type": "stream",
     "text": [
      "CPU times: user 18.1 s, sys: 143 ms, total: 18.3 s\n",
      "Wall time: 18.5 s\n"
     ]
    }
   ],
   "source": [
    "%%time\n",
    "depths = [5, 6]\n",
    "n = 100\n",
    "tree_scores = []\n",
    "\n",
    "for depth in depths:\n",
    "    tree_model = RandomForestClassifier(max_features=d, n_estimators=n, max_depth=depth)\n",
    "    tree_score = cross_val_score(tree_model, X, y, cv=10).mean()\n",
    "    tree_scores.append(tree_score)"
   ]
  },
  {
   "cell_type": "code",
   "execution_count": 52,
   "metadata": {},
   "outputs": [
    {
     "data": {
      "image/png": "[encoded data removed]",
      "text/plain": [
       "<Figure size 432x288 with 1 Axes>"
      ]
     },
     "metadata": {
      "needs_background": "light"
     },
     "output_type": "display_data"
    }
   ],
   "source": [
    "import matplotlib.pyplot as plt\n",
    "\n",
    "plt.plot(depths, tree_scores, label='Random forest')\n",
    "plt.legend()\n",
    "plt.show()"
   ]
  },
  {
   "cell_type": "markdown",
   "metadata": {},
   "source": [
    "# Answers"
   ]
  },
  {
   "cell_type": "code",
   "execution_count": 59,
   "metadata": {},
   "outputs": [],
   "source": [
    "write([2, 3, 4, 7], 5)"
   ]
  },
  {
   "cell_type": "code",
   "execution_count": null,
   "metadata": {},
   "outputs": [],
   "source": []
  }
 ],
 "metadata": {
  "kernelspec": {
   "display_name": "Python 3",
   "language": "python",
   "name": "python3"
  },
  "language_info": {
   "codemirror_mode": {
    "name": "ipython",
    "version": 3
   },
   "file_extension": ".py",
   "mimetype": "text/x-python",
   "name": "python",
   "nbconvert_exporter": "python",
   "pygments_lexer": "ipython3",
   "version": "3.7.3"
  }
 },
 "nbformat": 4,
 "nbformat_minor": 4
}
