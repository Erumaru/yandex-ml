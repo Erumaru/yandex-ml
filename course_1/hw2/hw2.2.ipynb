{
 "cells": [
  {
   "cell_type": "code",
   "execution_count": 38,
   "metadata": {},
   "outputs": [
    {
     "name": "stdout",
     "output_type": "stream",
     "text": [
      "[3.25221687 1.74684595 2.50541641 0.63522142]\n",
      "[3.25221687 1.74684595 2.50541641 0.63522142]\n",
      "[ 4.36264154 -1.29552587  0.19333685 -0.00823565]\n"
     ]
    }
   ],
   "source": [
    "import math\n",
    "from scipy import linalg\n",
    "import numpy as np\n",
    "import matplotlib.pyplot as plt \n",
    "\n",
    "def f(x):\n",
    "    return math.sin(x/5)*math.exp(x/10)+5*math.exp(-x/2)\n",
    "\n",
    "a = np.array([[1,  1,     1,     1], \n",
    "              [1, 4,  4**2,  4**3], \n",
    "              [1, 10, 10**2, 10**3], \n",
    "              [1, 15, 15**2, 15**3]])\n",
    "b = np.array([f(1), f(4), f(10), f(15)])\n",
    "x = linalg.solve(a, b)\n",
    "y = np.dot(a, x)\n",
    "print(b)\n",
    "print(y)\n",
    "print(x)\n",
    "x = list(map(lambda x: str(x), x))\n",
    "\n",
    "with open('submission-2.txt', 'w') as f:\n",
    "    f.write(' '.join(x))"
   ]
  },
  {
   "cell_type": "code",
   "execution_count": null,
   "metadata": {},
   "outputs": [],
   "source": []
  }
 ],
 "metadata": {
  "kernelspec": {
   "display_name": "Python 3",
   "language": "python",
   "name": "python3"
  },
  "language_info": {
   "codemirror_mode": {
    "name": "ipython",
    "version": 3
   },
   "file_extension": ".py",
   "mimetype": "text/x-python",
   "name": "python",
   "nbconvert_exporter": "python",
   "pygments_lexer": "ipython3",
   "version": "3.7.3"
  }
 },
 "nbformat": 4,
 "nbformat_minor": 4
}
