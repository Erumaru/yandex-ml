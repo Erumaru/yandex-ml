{
 "cells": [
  {
   "cell_type": "code",
   "execution_count": 70,
   "metadata": {},
   "outputs": [],
   "source": [
    "import re\n",
    "import numpy as np\n",
    "from scipy.spatial import distance \n",
    "import sys\n",
    "\n",
    "f = open('sentences.txt', 'r')\n",
    "words = []\n",
    "sentences = []\n",
    "ids = {}\n",
    "\n",
    "for row in f:\n",
    "    w = re.split('[^a-z]', row.lower())\n",
    "    w = list(filter(lambda x: len(x) > 0, w))\n",
    "    sentences.append(w)\n",
    "    for word in w:\n",
    "        words.append(word)\n",
    "\n",
    "cur = 0\n",
    "for word in words:\n",
    "    if word not in ids:\n",
    "        ids[word] = cur\n",
    "        cur += 1\n",
    "\n",
    "matrix = np.zeros((len(sentences), len(ids.keys())), int)\n",
    "\n",
    "for i, s in enumerate(sentences):\n",
    "    for w in s:\n",
    "        matrix[i][ids[w]] += 1\n",
    "\n",
    "f_min, s_min = sys.float_info.max, sys.float_info.max\n",
    "f_min_w, s_min_w = -1, -1\n",
    "\n",
    "for i in range(1, matrix.shape[0]):\n",
    "    d = distance.cosine(matrix[0], matrix[i])\n",
    "    if d < f_min:\n",
    "        s_min = f_min\n",
    "        s_min_w = f_min_w\n",
    "        f_min = d\n",
    "        f_min_w = i\n",
    "    elif d < s_min:\n",
    "        s_min = d\n",
    "        s_min_w = i\n",
    "    \n",
    "out_f = open('submission-1.txt', 'w')\n",
    "out_f.write(f'{f_min_w} {s_min_w}')\n",
    "\n",
    "\n",
    "f.close()\n",
    "out_f.close()\n",
    "        "
   ]
  },
  {
   "cell_type": "code",
   "execution_count": null,
   "metadata": {},
   "outputs": [],
   "source": []
  }
 ],
 "metadata": {
  "kernelspec": {
   "display_name": "Python 3",
   "language": "python",
   "name": "python3"
  },
  "language_info": {
   "codemirror_mode": {
    "name": "ipython",
    "version": 3
   },
   "file_extension": ".py",
   "mimetype": "text/x-python",
   "name": "python",
   "nbconvert_exporter": "python",
   "pygments_lexer": "ipython3",
   "version": "3.7.3"
  }
 },
 "nbformat": 4,
 "nbformat_minor": 4
}
