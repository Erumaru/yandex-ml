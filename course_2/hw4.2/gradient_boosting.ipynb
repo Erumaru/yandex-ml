{
 "cells": [
  {
   "cell_type": "code",
   "execution_count": 1,
   "metadata": {},
   "outputs": [],
   "source": [
    "from sklearn.datasets import load_boston\n",
    "X, y = load_boston(return_X_y=True)"
   ]
  },
  {
   "cell_type": "code",
   "execution_count": 2,
   "metadata": {},
   "outputs": [],
   "source": [
    "from sklearn.model_selection import train_test_split\n",
    "train_X, test_X, train_y, test_y = train_test_split(X, y, test_size=0.25, shuffle=False)"
   ]
  },
  {
   "cell_type": "code",
   "execution_count": 3,
   "metadata": {},
   "outputs": [
    {
     "name": "stdout",
     "output_type": "stream",
     "text": [
      "(379, 13)\n",
      "(379,)\n",
      "(127, 13)\n",
      "(127,)\n"
     ]
    }
   ],
   "source": [
    "print(train_X.shape)\n",
    "print(train_y.shape)\n",
    "print(test_X.shape)\n",
    "print(test_y.shape)"
   ]
  },
  {
   "cell_type": "code",
   "execution_count": 4,
   "metadata": {},
   "outputs": [],
   "source": [
    "def gradient(x, y):\n",
    "    return -(x - y)"
   ]
  },
  {
   "cell_type": "code",
   "execution_count": 5,
   "metadata": {},
   "outputs": [],
   "source": [
    "from sklearn.tree import DecisionTreeRegressor\n",
    "import numpy as np\n",
    "\n",
    "base_algorithms_list = []\n",
    "coefficients_list = []\n",
    "N = 50\n",
    "next_y = train_y.copy()\n",
    "current_y = np.zeros(train_y.shape[0])\n",
    "\n",
    "for i in range(N):\n",
    "    model = DecisionTreeRegressor(random_state=42, max_depth=5)\n",
    "    model.fit(train_X, next_y)\n",
    "    p_y = model.predict(train_X)\n",
    "    base_algorithms_list.append(model)\n",
    "    coeff = 0.9 / (1 + i)\n",
    "    coefficients_list.append(coeff)\n",
    "    for j in range(next_y.shape[0]):\n",
    "        current_y[j] = current_y[j] + coeff * p_y[j]\n",
    "        next_y[j] = gradient(current_y[j], train_y[j])\n",
    "    "
   ]
  },
  {
   "cell_type": "code",
   "execution_count": 6,
   "metadata": {},
   "outputs": [],
   "source": [
    "def gbm_predict(X):\n",
    "    return [sum([coeff * algo.predict([x])[0] for algo, coeff \n",
    "                 in zip(base_algorithms_list, coefficients_list)]) for x in X]"
   ]
  },
  {
   "cell_type": "code",
   "execution_count": 7,
   "metadata": {},
   "outputs": [
    {
     "name": "stdout",
     "output_type": "stream",
     "text": [
      "4.812550945781193\n"
     ]
    }
   ],
   "source": [
    "pred_y = gbm_predict(test_X)\n",
    "\n",
    "from sklearn.metrics import mean_squared_error\n",
    "import math\n",
    "\n",
    "error = math.sqrt(mean_squared_error(pred_y, test_y))\n",
    "\n",
    "print(error)"
   ]
  },
  {
   "cell_type": "code",
   "execution_count": 8,
   "metadata": {},
   "outputs": [],
   "source": [
    "def write_to_file(x, name):\n",
    "    with open(f'{name}.text', 'w') as fl:\n",
    "        fl.write(' '.join(list(map(lambda x: str(x), x))))"
   ]
  },
  {
   "cell_type": "code",
   "execution_count": 9,
   "metadata": {},
   "outputs": [],
   "source": [
    "write_to_file([error], 1)"
   ]
  },
  {
   "cell_type": "code",
   "execution_count": 55,
   "metadata": {},
   "outputs": [
    {
     "name": "stdout",
     "output_type": "stream",
     "text": [
      "[0]\teval-rmse:8.90445\ttrain-rmse:19.33520\n",
      "[199]\teval-rmse:11.46700\ttrain-rmse:8.79035\n",
      "[0]\teval-rmse:9.41606\ttrain-rmse:18.82894\n",
      "[199]\teval-rmse:6.66909\ttrain-rmse:2.12956\n",
      "[0]\teval-rmse:10.11017\ttrain-rmse:18.69175\n",
      "[199]\teval-rmse:4.77136\ttrain-rmse:0.73064\n",
      "[0]\teval-rmse:10.23610\ttrain-rmse:18.63280\n",
      "[199]\teval-rmse:4.56384\ttrain-rmse:0.20294\n",
      "[0]\teval-rmse:10.22494\ttrain-rmse:18.62304\n",
      "[199]\teval-rmse:4.90636\ttrain-rmse:0.02806\n",
      "[0]\teval-rmse:10.22494\ttrain-rmse:18.62304\n",
      "[199]\teval-rmse:5.04542\ttrain-rmse:0.00324\n",
      "[0]\teval-rmse:10.22494\ttrain-rmse:18.62304\n",
      "[199]\teval-rmse:5.04394\ttrain-rmse:0.00121\n",
      "[0]\teval-rmse:10.22494\ttrain-rmse:18.62304\n",
      "[199]\teval-rmse:5.22556\ttrain-rmse:0.00121\n",
      "[0]\teval-rmse:10.22494\ttrain-rmse:18.62304\n",
      "[199]\teval-rmse:5.08770\ttrain-rmse:0.00109\n",
      "[0]\teval-rmse:10.22494\ttrain-rmse:18.62304\n",
      "[199]\teval-rmse:5.14412\ttrain-rmse:0.00111\n",
      "[0]\teval-rmse:10.22494\ttrain-rmse:18.62304\n",
      "[199]\teval-rmse:4.82046\ttrain-rmse:0.00084\n",
      "[0]\teval-rmse:10.22494\ttrain-rmse:18.62304\n",
      "[199]\teval-rmse:4.80353\ttrain-rmse:0.00072\n",
      "[0]\teval-rmse:10.22494\ttrain-rmse:18.62304\n",
      "[199]\teval-rmse:4.98897\ttrain-rmse:0.00076\n",
      "[0]\teval-rmse:10.22494\ttrain-rmse:18.62304\n",
      "[199]\teval-rmse:5.01480\ttrain-rmse:0.00070\n",
      "[0]\teval-rmse:10.22494\ttrain-rmse:18.62304\n",
      "[199]\teval-rmse:5.03884\ttrain-rmse:0.00067\n",
      "[0]\teval-rmse:10.22494\ttrain-rmse:18.62304\n",
      "[199]\teval-rmse:5.14567\ttrain-rmse:0.00063\n",
      "[0]\teval-rmse:10.22494\ttrain-rmse:18.62304\n",
      "[199]\teval-rmse:5.13301\ttrain-rmse:0.00063\n",
      "[0]\teval-rmse:10.22494\ttrain-rmse:18.62304\n",
      "[199]\teval-rmse:5.08024\ttrain-rmse:0.00066\n",
      "[0]\teval-rmse:10.22494\ttrain-rmse:18.62304\n",
      "[199]\teval-rmse:5.08184\ttrain-rmse:0.00057\n",
      "[0]\teval-rmse:10.22494\ttrain-rmse:18.62304\n",
      "[199]\teval-rmse:5.08720\ttrain-rmse:0.00069\n",
      "[0]\teval-rmse:10.22494\ttrain-rmse:18.62304\n",
      "[199]\teval-rmse:5.09149\ttrain-rmse:0.00062\n",
      "[0]\teval-rmse:10.22494\ttrain-rmse:18.62304\n",
      "[199]\teval-rmse:5.09362\ttrain-rmse:0.00064\n",
      "[0]\teval-rmse:10.22494\ttrain-rmse:18.62304\n",
      "[199]\teval-rmse:5.09664\ttrain-rmse:0.00061\n",
      "[0]\teval-rmse:10.22494\ttrain-rmse:18.62304\n",
      "[199]\teval-rmse:5.09465\ttrain-rmse:0.00061\n",
      "[0]\teval-rmse:10.22494\ttrain-rmse:18.62304\n",
      "[199]\teval-rmse:5.09385\ttrain-rmse:0.00063\n",
      "[0]\teval-rmse:10.22494\ttrain-rmse:18.62304\n",
      "[199]\teval-rmse:5.09377\ttrain-rmse:0.00058\n",
      "[0]\teval-rmse:10.22494\ttrain-rmse:18.62304\n",
      "[199]\teval-rmse:5.09373\ttrain-rmse:0.00061\n",
      "[0]\teval-rmse:10.22494\ttrain-rmse:18.62304\n",
      "[199]\teval-rmse:5.09387\ttrain-rmse:0.00061\n",
      "[0]\teval-rmse:10.22494\ttrain-rmse:18.62304\n",
      "[199]\teval-rmse:5.09387\ttrain-rmse:0.00061\n",
      "[0]\teval-rmse:10.22494\ttrain-rmse:18.62304\n",
      "[199]\teval-rmse:5.09387\ttrain-rmse:0.00061\n",
      "[0]\teval-rmse:10.22494\ttrain-rmse:18.62304\n",
      "[199]\teval-rmse:5.09387\ttrain-rmse:0.00061\n",
      "[0]\teval-rmse:10.22494\ttrain-rmse:18.62304\n",
      "[199]\teval-rmse:5.09387\ttrain-rmse:0.00061\n",
      "[0]\teval-rmse:10.22494\ttrain-rmse:18.62304\n",
      "[199]\teval-rmse:5.09387\ttrain-rmse:0.00061\n",
      "[0]\teval-rmse:10.22494\ttrain-rmse:18.62304\n",
      "[199]\teval-rmse:5.09387\ttrain-rmse:0.00061\n",
      "[0]\teval-rmse:10.22494\ttrain-rmse:18.62304\n",
      "[199]\teval-rmse:5.09387\ttrain-rmse:0.00061\n",
      "[0]\teval-rmse:10.22494\ttrain-rmse:18.62304\n",
      "[199]\teval-rmse:5.09387\ttrain-rmse:0.00061\n",
      "[0]\teval-rmse:10.22494\ttrain-rmse:18.62304\n",
      "[199]\teval-rmse:5.09387\ttrain-rmse:0.00061\n",
      "[0]\teval-rmse:10.22494\ttrain-rmse:18.62304\n",
      "[199]\teval-rmse:5.09387\ttrain-rmse:0.00061\n",
      "[0]\teval-rmse:10.22494\ttrain-rmse:18.62304\n",
      "[199]\teval-rmse:5.09387\ttrain-rmse:0.00061\n",
      "[0]\teval-rmse:10.22494\ttrain-rmse:18.62304\n",
      "[199]\teval-rmse:5.09387\ttrain-rmse:0.00061\n",
      "[0]\teval-rmse:10.22494\ttrain-rmse:18.62304\n",
      "[199]\teval-rmse:5.09387\ttrain-rmse:0.00061\n",
      "[0]\teval-rmse:10.22494\ttrain-rmse:18.62304\n",
      "[199]\teval-rmse:5.09387\ttrain-rmse:0.00061\n",
      "[0]\teval-rmse:10.22494\ttrain-rmse:18.62304\n",
      "[199]\teval-rmse:5.09387\ttrain-rmse:0.00061\n",
      "[0]\teval-rmse:10.22494\ttrain-rmse:18.62304\n",
      "[199]\teval-rmse:5.09387\ttrain-rmse:0.00061\n",
      "[0]\teval-rmse:10.22494\ttrain-rmse:18.62304\n",
      "[199]\teval-rmse:5.09387\ttrain-rmse:0.00061\n",
      "[0]\teval-rmse:10.22494\ttrain-rmse:18.62304\n",
      "[199]\teval-rmse:5.09387\ttrain-rmse:0.00061\n",
      "[0]\teval-rmse:10.22494\ttrain-rmse:18.62304\n",
      "[199]\teval-rmse:5.09387\ttrain-rmse:0.00061\n",
      "[0]\teval-rmse:10.22494\ttrain-rmse:18.62304\n",
      "[199]\teval-rmse:5.09387\ttrain-rmse:0.00061\n",
      "[0]\teval-rmse:10.22494\ttrain-rmse:18.62304\n",
      "[199]\teval-rmse:5.09387\ttrain-rmse:0.00061\n",
      "[0]\teval-rmse:10.22494\ttrain-rmse:18.62304\n",
      "[199]\teval-rmse:5.09387\ttrain-rmse:0.00061\n",
      "[11.466998, 6.669092, 4.771362, 4.563835, 4.906361, 5.045417, 5.043939, 5.225563, 5.087695, 5.144121, 4.820462, 4.803534, 4.988972, 5.014796, 5.038837, 5.145665, 5.133012, 5.080241, 5.081842, 5.0872, 5.091492, 5.093617, 5.096637, 5.094652, 5.093853, 5.093767, 5.093732, 5.093869, 5.093868, 5.093869, 5.093869, 5.093868, 5.093868, 5.093869, 5.093869, 5.093869, 5.093869, 5.093868, 5.093868, 5.093869, 5.093869, 5.093869, 5.093869, 5.093869, 5.093868, 5.093869, 5.093869, 5.093868, 5.093868, 5.093869]\n"
     ]
    }
   ],
   "source": [
    "import xgboost as xgb\n",
    "\n",
    "dtrain = xgb.DMatrix(train_X, label=train_y)\n",
    "dtest = xgb.DMatrix(test_X, label=test_y)\n",
    "evallist = [(dtest, 'eval'), (dtrain, 'train')]\n",
    "\n",
    "errors = []\n",
    "for i in range(50):\n",
    "    param = {'max_depth': i}\n",
    "    num_round = 200\n",
    "    progress = {}\n",
    "    bst = xgb.train(param, dtrain, num_round, evallist, evals_result=progress, verbose_eval=1000)\n",
    "    ers = progress['eval']['rmse']\n",
    "    errors.append(ers[len(ers) - 1])\n",
    "    \n",
    "print(errors)"
   ]
  },
  {
   "cell_type": "code",
   "execution_count": 56,
   "metadata": {},
   "outputs": [
    {
     "data": {
      "image/png": "[encoded data removed]",
      "text/plain": [
       "<Figure size 432x288 with 1 Axes>"
      ]
     },
     "metadata": {
      "needs_background": "light"
     },
     "output_type": "display_data"
    }
   ],
   "source": [
    "\n",
    "\n",
    "import matplotlib.pyplot as plt\n",
    "\n",
    "plt.plot(range(50), errors, label='XGboost')\n",
    "plt.ylabel('MSE')\n",
    "plt.xlabel('N')\n",
    "plt.legend()\n",
    "plt.show()"
   ]
  },
  {
   "cell_type": "code",
   "execution_count": 58,
   "metadata": {},
   "outputs": [
    {
     "name": "stdout",
     "output_type": "stream",
     "text": [
      "8.254979753549401\n"
     ]
    }
   ],
   "source": [
    "from sklearn.linear_model import LinearRegression\n",
    "\n",
    "model = LinearRegression()\n",
    "model.fit(train_X, train_y)\n",
    "pred_y = model.predict(test_X)\n",
    "\n",
    "error = math.sqrt(mean_squared_error(pred_y, test_y))\n",
    "print(error)"
   ]
  },
  {
   "cell_type": "code",
   "execution_count": 59,
   "metadata": {},
   "outputs": [],
   "source": [
    "write_to_file([error], 5)"
   ]
  },
  {
   "cell_type": "code",
   "execution_count": null,
   "metadata": {},
   "outputs": [],
   "source": []
  }
 ],
 "metadata": {
  "kernelspec": {
   "display_name": "Python 3",
   "language": "python",
   "name": "python3"
  },
  "language_info": {
   "codemirror_mode": {
    "name": "ipython",
    "version": 3
   },
   "file_extension": ".py",
   "mimetype": "text/x-python",
   "name": "python",
   "nbconvert_exporter": "python",
   "pygments_lexer": "ipython3",
   "version": "3.7.3"
  }
 },
 "nbformat": 4,
 "nbformat_minor": 4
}
