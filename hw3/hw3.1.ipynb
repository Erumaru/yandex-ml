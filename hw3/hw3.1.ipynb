{
 "cells": [
  {
   "cell_type": "code",
   "execution_count": 28,
   "metadata": {},
   "outputs": [],
   "source": [
    "import math\n",
    "from scipy.optimize import minimize \n",
    "\n",
    "def f(x):\n",
    "    return math.sin(x/5.0)*math.exp(x/10.0)+5.0*math.exp(-x/2.0)\n",
    "\n",
    "with open('result_3.1.txt', 'w') as fl:\n",
    "    fl.write('{:.2f} {:.2f}'.format(minimize(f, 2, method='BFGS').fun, minimize(f, 30, method='BFGS').fun))"
   ]
  },
  {
   "cell_type": "code",
   "execution_count": null,
   "metadata": {},
   "outputs": [],
   "source": []
  }
 ],
 "metadata": {
  "kernelspec": {
   "display_name": "Python 3",
   "language": "python",
   "name": "python3"
  },
  "language_info": {
   "codemirror_mode": {
    "name": "ipython",
    "version": 3
   },
   "file_extension": ".py",
   "mimetype": "text/x-python",
   "name": "python",
   "nbconvert_exporter": "python",
   "pygments_lexer": "ipython3",
   "version": "3.7.3"
  }
 },
 "nbformat": 4,
 "nbformat_minor": 4
}
